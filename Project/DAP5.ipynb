{
 "cells": [
  {
   "cell_type": "markdown",
   "metadata": {},
   "source": [
    "# DAP6"
   ]
  },
  {
   "cell_type": "code",
   "execution_count": 1,
   "metadata": {},
   "outputs": [],
   "source": [
    "import pandas as pd\n",
    "import numpy as np\n",
    "import matplotlib.pyplot as plt\n",
    "data = pd.read_csv(\"./processeddata/rent.csv\", index_col=0)"
   ]
  },
  {
   "cell_type": "code",
   "execution_count": 2,
   "metadata": {},
   "outputs": [],
   "source": [
    "y = data[[\"median_rent\"]]\n",
    "X = data.drop(columns=[\"median_rent\"])"
   ]
  },
  {
   "cell_type": "code",
   "execution_count": 3,
   "metadata": {},
   "outputs": [],
   "source": [
    "from sklearn.model_selection import train_test_split, KFold\n",
    "from sklearn.preprocessing import MinMaxScaler"
   ]
  },
  {
   "cell_type": "code",
   "execution_count": 4,
   "metadata": {},
   "outputs": [],
   "source": [
    "# split into train test splits of varying size\n",
    "splits = {}\n",
    "cv_splits = {}\n",
    "kf= KFold(n_splits=5, shuffle=True, random_state=42)\n",
    "scaler = MinMaxScaler()\n",
    "\n",
    "for train_percent in [0.8]:\n",
    "    # create train test split for certain percentage\n",
    "    X_train, X_test, y_train, y_test = train_test_split(X, y, test_size=1-train_percent, random_state=42)\n",
    "    \n",
    "    # normalize data\n",
    "    X_train = scaler.fit_transform(X_train)\n",
    "    X_test = scaler.transform(X_test)\n",
    "    splits[train_percent] = [X_train, X_test, y_train, y_test]\n",
    "    \n",
    "    # create the cross validation split for the given train test split\n",
    "    cv_splits[train_percent] = [x for x in kf.split(X_train)]"
   ]
  },
  {
   "cell_type": "markdown",
   "metadata": {},
   "source": [
    "## Neural Network"
   ]
  },
  {
   "cell_type": "code",
   "execution_count": 5,
   "metadata": {},
   "outputs": [],
   "source": [
    "from sklearn.neural_network import MLPRegressor\n",
    "from sklearn.model_selection import GridSearchCV"
   ]
  },
  {
   "cell_type": "code",
   "execution_count": 41,
   "metadata": {},
   "outputs": [
    {
     "name": "stderr",
     "output_type": "stream",
     "text": [
      "C:\\Users\\michl\\anaconda3\\lib\\site-packages\\sklearn\\neural_network\\_multilayer_perceptron.py:1342: DataConversionWarning: A column-vector y was passed when a 1d array was expected. Please change the shape of y to (n_samples, ), for example using ravel().\n",
      "  y = column_or_1d(y, warn=True)\n",
      "C:\\Users\\michl\\anaconda3\\lib\\site-packages\\sklearn\\neural_network\\_multilayer_perceptron.py:571: ConvergenceWarning: Stochastic Optimizer: Maximum iterations (200) reached and the optimization hasn't converged yet.\n",
      "  % self.max_iter, ConvergenceWarning)\n"
     ]
    }
   ],
   "source": [
    "# layers\n",
    "cv_results = {}\n",
    "params = {\n",
    "    \"hidden_layer_sizes\": [(10,10), (10, 10, 10), (10, 20, 10)]\n",
    "}\n",
    "\n",
    "for train_percent in cv_splits:\n",
    "    cv = GridSearchCV(MLPRegressor(), params, n_jobs=-1, cv=cv_splits[train_percent], return_train_score=True)\n",
    "    \n",
    "    X_train, y_train = splits[train_percent][0], splits[train_percent][2]\n",
    "    cv.fit(X_train, y_train)\n",
    "    \n",
    "    cv_results[train_percent] = cv"
   ]
  },
  {
   "cell_type": "code",
   "execution_count": 42,
   "metadata": {},
   "outputs": [
    {
     "name": "stdout",
     "output_type": "stream",
     "text": [
      "0.8 0.5679993533868313 {'hidden_layer_sizes': (10, 10, 10)}\n"
     ]
    }
   ],
   "source": [
    "for percent, cv in zip(cv_results.keys(), cv_results.values()):\n",
    "    print(percent, cv.best_score_, cv.best_params_)"
   ]
  },
  {
   "cell_type": "code",
   "execution_count": 59,
   "metadata": {},
   "outputs": [],
   "source": [
    "def graph_cv(cv, param_index=0):\n",
    "    results = pd.DataFrame(data=cv.cv_results_)\n",
    "    \n",
    "    # get the parameters of the best run\n",
    "    best = results.loc[cv.best_index_]\n",
    "    best_params = best[\"params\"]\n",
    "    \n",
    "    graph_param = list(best_params.keys())[param_index]\n",
    "    results.plot.line(x=f\"param_{graph_param}\", y=[\"mean_train_score\", \"mean_test_score\"])\n",
    "    plt.show()"
   ]
  },
  {
   "cell_type": "code",
   "execution_count": 44,
   "metadata": {},
   "outputs": [],
   "source": [
    "def graph_overfit(cv):\n",
    "    scores = {}\n",
    "    \n",
    "    for percent in cv:\n",
    "        cv_results = pd.DataFrame(data=cv[percent].cv_results_)\n",
    "        best_index = cv[percent].best_index_\n",
    "        train_score = cv_results.loc[best_index][\"mean_train_score\"]\n",
    "        test_score = cv_results.loc[best_index][\"mean_test_score\"]\n",
    "        scores[percent] = {\"train_score\": train_score, \"test_score\": test_score}\n",
    "        \n",
    "    result = pd.DataFrame(data=scores).transpose()\n",
    "    result.plot.line(y=[\"train_score\", \"test_score\"])"
   ]
  },
  {
   "cell_type": "code",
   "execution_count": 45,
   "metadata": {},
   "outputs": [
    {
     "name": "stdout",
     "output_type": "stream",
     "text": [
      "0.8\n"
     ]
    },
    {
     "data": {
      "image/png": "[encoded data removed]",
      "text/plain": [
       "<Figure size 432x288 with 1 Axes>"
      ]
     },
     "metadata": {
      "needs_background": "light"
     },
     "output_type": "display_data"
    }
   ],
   "source": [
    "for percent in [0.8]:\n",
    "    print(percent)\n",
    "    graph_cv(cv_results[percent])"
   ]
  },
  {
   "cell_type": "code",
   "execution_count": 46,
   "metadata": {},
   "outputs": [
    {
     "name": "stderr",
     "output_type": "stream",
     "text": [
      "C:\\Users\\michl\\anaconda3\\lib\\site-packages\\sklearn\\neural_network\\_multilayer_perceptron.py:1342: DataConversionWarning: A column-vector y was passed when a 1d array was expected. Please change the shape of y to (n_samples, ), for example using ravel().\n",
      "  y = column_or_1d(y, warn=True)\n",
      "C:\\Users\\michl\\anaconda3\\lib\\site-packages\\sklearn\\neural_network\\_multilayer_perceptron.py:571: ConvergenceWarning: Stochastic Optimizer: Maximum iterations (200) reached and the optimization hasn't converged yet.\n",
      "  % self.max_iter, ConvergenceWarning)\n"
     ]
    }
   ],
   "source": [
    "# activation function\n",
    "cv_results = {}\n",
    "params = {\n",
    "    \"hidden_layer_sizes\": [(10,10, 10)],\n",
    "    \"activation\": [\"logistic\", \"tanh\", \"relu\"]\n",
    "}\n",
    "\n",
    "for train_percent in cv_splits:\n",
    "    cv = GridSearchCV(MLPRegressor(), params, n_jobs=-1, cv=cv_splits[train_percent], return_train_score=True)\n",
    "    \n",
    "    X_train, y_train = splits[train_percent][0], splits[train_percent][2]\n",
    "    cv.fit(X_train, y_train)\n",
    "    \n",
    "    cv_results[train_percent] = cv"
   ]
  },
  {
   "cell_type": "code",
   "execution_count": 47,
   "metadata": {},
   "outputs": [
    {
     "name": "stdout",
     "output_type": "stream",
     "text": [
      "0.8 0.5577675904132675 {'activation': 'relu', 'hidden_layer_sizes': (10, 10, 10)}\n"
     ]
    }
   ],
   "source": [
    "for percent, cv in zip(cv_results.keys(), cv_results.values()):\n",
    "    print(percent, cv.best_score_, cv.best_params_)"
   ]
  },
  {
   "cell_type": "code",
   "execution_count": 48,
   "metadata": {},
   "outputs": [
    {
     "name": "stdout",
     "output_type": "stream",
     "text": [
      "0.8\n"
     ]
    },
    {
     "data": {
      "image/png": "[encoded data removed]",
      "text/plain": [
       "<Figure size 432x288 with 1 Axes>"
      ]
     },
     "metadata": {
      "needs_background": "light"
     },
     "output_type": "display_data"
    }
   ],
   "source": [
    "for percent in [0.8]:\n",
    "    print(percent)\n",
    "    graph_cv(cv_results[percent])"
   ]
  },
  {
   "cell_type": "code",
   "execution_count": 49,
   "metadata": {},
   "outputs": [
    {
     "name": "stderr",
     "output_type": "stream",
     "text": [
      "C:\\Users\\michl\\anaconda3\\lib\\site-packages\\sklearn\\neural_network\\_multilayer_perceptron.py:1342: DataConversionWarning: A column-vector y was passed when a 1d array was expected. Please change the shape of y to (n_samples, ), for example using ravel().\n",
      "  y = column_or_1d(y, warn=True)\n",
      "C:\\Users\\michl\\anaconda3\\lib\\site-packages\\sklearn\\neural_network\\_multilayer_perceptron.py:571: ConvergenceWarning: Stochastic Optimizer: Maximum iterations (200) reached and the optimization hasn't converged yet.\n",
      "  % self.max_iter, ConvergenceWarning)\n"
     ]
    }
   ],
   "source": [
    "# alpha\n",
    "cv_results = {}\n",
    "params = {\n",
    "    \"hidden_layer_sizes\": [(10,10,10)],\n",
    "    \"alpha\": np.linspace(0.0001, 0.5, 10)\n",
    "}\n",
    "\n",
    "for train_percent in cv_splits:\n",
    "    cv = GridSearchCV(MLPRegressor(), params, n_jobs=-1, cv=cv_splits[train_percent], return_train_score=True)\n",
    "    \n",
    "    X_train, y_train = splits[train_percent][0], splits[train_percent][2]\n",
    "    cv.fit(X_train, y_train)\n",
    "    \n",
    "    cv_results[train_percent] = cv"
   ]
  },
  {
   "cell_type": "code",
   "execution_count": 50,
   "metadata": {},
   "outputs": [
    {
     "name": "stdout",
     "output_type": "stream",
     "text": [
      "0.8 0.5742341403522325 {'alpha': 0.22227777777777777, 'hidden_layer_sizes': (10, 10, 10)}\n"
     ]
    }
   ],
   "source": [
    "for percent, cv in zip(cv_results.keys(), cv_results.values()):\n",
    "    print(percent, cv.best_score_, cv.best_params_)"
   ]
  },
  {
   "cell_type": "code",
   "execution_count": 51,
   "metadata": {},
   "outputs": [
    {
     "name": "stdout",
     "output_type": "stream",
     "text": [
      "0.8\n"
     ]
    },
    {
     "data": {
      "image/png": "[encoded data removed]",
      "text/plain": [
       "<Figure size 432x288 with 1 Axes>"
      ]
     },
     "metadata": {
      "needs_background": "light"
     },
     "output_type": "display_data"
    }
   ],
   "source": [
    "for percent in [0.8]:\n",
    "    print(percent)\n",
    "    graph_cv(cv_results[percent])"
   ]
  },
  {
   "cell_type": "code",
   "execution_count": 67,
   "metadata": {},
   "outputs": [
    {
     "name": "stderr",
     "output_type": "stream",
     "text": [
      "C:\\Users\\michl\\anaconda3\\lib\\site-packages\\sklearn\\neural_network\\_multilayer_perceptron.py:1342: DataConversionWarning: A column-vector y was passed when a 1d array was expected. Please change the shape of y to (n_samples, ), for example using ravel().\n",
      "  y = column_or_1d(y, warn=True)\n",
      "C:\\Users\\michl\\anaconda3\\lib\\site-packages\\sklearn\\neural_network\\_multilayer_perceptron.py:571: ConvergenceWarning: Stochastic Optimizer: Maximum iterations (200) reached and the optimization hasn't converged yet.\n",
      "  % self.max_iter, ConvergenceWarning)\n"
     ]
    }
   ],
   "source": [
    "# learning rate\n",
    "cv_results = {}\n",
    "params = {\n",
    "    \"learning_rate_init\": np.linspace(0.0001, 0.002, 5)\n",
    "}\n",
    "\n",
    "for train_percent in cv_splits:\n",
    "    cv = GridSearchCV(MLPRegressor(hidden_layer_sizes=(10,10,10), alpha=0.2223), params, n_jobs=-1, cv=cv_splits[train_percent], return_train_score=True)\n",
    "    \n",
    "    X_train, y_train = splits[train_percent][0], splits[train_percent][2]\n",
    "    cv.fit(X_train, y_train)\n",
    "    \n",
    "    cv_results[train_percent] = cv"
   ]
  },
  {
   "cell_type": "code",
   "execution_count": 68,
   "metadata": {},
   "outputs": [
    {
     "name": "stdout",
     "output_type": "stream",
     "text": [
      "0.8 0.5776275974962145 {'learning_rate_init': 0.002}\n"
     ]
    }
   ],
   "source": [
    "for percent, cv in zip(cv_results.keys(), cv_results.values()):\n",
    "    print(percent, cv.best_score_, cv.best_params_)"
   ]
  },
  {
   "cell_type": "code",
   "execution_count": 69,
   "metadata": {},
   "outputs": [
    {
     "name": "stdout",
     "output_type": "stream",
     "text": [
      "0.8\n"
     ]
    },
    {
     "data": {
      "image/png": "[encoded data removed]",
      "text/plain": [
       "<Figure size 432x288 with 1 Axes>"
      ]
     },
     "metadata": {
      "needs_background": "light"
     },
     "output_type": "display_data"
    }
   ],
   "source": [
    "for percent in [0.8]:\n",
    "    print(percent)\n",
    "    graph_cv(cv_results[percent])"
   ]
  },
  {
   "cell_type": "code",
   "execution_count": 70,
   "metadata": {},
   "outputs": [],
   "source": [
    "# final model\n",
    "from sklearn.model_selection import learning_curve"
   ]
  },
  {
   "cell_type": "code",
   "execution_count": 72,
   "metadata": {},
   "outputs": [],
   "source": [
    "y = data[[\"median_rent\"]]\n",
    "X = data.drop(columns=[\"median_rent\"])\n",
    "\n",
    "train_sizes, train_scores, test_scores, fit_times, _ = learning_curve(\n",
    "    MLPRegressor(hidden_layer_sizes=(10,10,10), alpha=0.2223, learning_rate_init=0.002),\n",
    "    X, y, cv=10, n_jobs=-1,\n",
    "    train_sizes=[0.5, 0.6, 0.7, 0.8, 0.9],\n",
    "    return_times=True)"
   ]
  },
  {
   "cell_type": "code",
   "execution_count": 79,
   "metadata": {},
   "outputs": [],
   "source": [
    "train_scores_mean = np.mean(train_scores, axis=1)\n",
    "test_scores_mean = np.mean(test_scores, axis=1)\n",
    "\n",
    "learning = pd.DataFrame(data={\n",
    "    \"index\": [0.5, 0.6, 0.7, 0.8, 0.9],\n",
    "    \"train_scores_mean\": train_scores_mean,\n",
    "    \"test_scores_mean\": test_scores_mean})\n"
   ]
  },
  {
   "cell_type": "code",
   "execution_count": 82,
   "metadata": {},
   "outputs": [],
   "source": [
    "learning = learning.set_index(\"index\")"
   ]
  },
  {
   "cell_type": "code",
   "execution_count": 84,
   "metadata": {},
   "outputs": [
    {
     "data": {
      "text/plain": [
       "Text(0.5, 0, 'training_size')"
      ]
     },
     "execution_count": 84,
     "metadata": {},
     "output_type": "execute_result"
    },
    {
     "data": {
      "image/png": "[encoded data removed]",
      "text/plain": [
       "<Figure size 432x288 with 1 Axes>"
      ]
     },
     "metadata": {
      "needs_background": "light"
     },
     "output_type": "display_data"
    }
   ],
   "source": [
    "learning.plot.line(y=[\"train_scores_mean\", \"test_scores_mean\"])\n",
    "plt.xlabel(\"training_size\")"
   ]
  },
  {
   "cell_type": "code",
   "execution_count": 85,
   "metadata": {},
   "outputs": [],
   "source": [
    "nn = MLPRegressor(hidden_layer_sizes=(10,10,10), alpha=0.2223, learning_rate_init=0.002)"
   ]
  },
  {
   "cell_type": "code",
   "execution_count": 87,
   "metadata": {},
   "outputs": [
    {
     "name": "stderr",
     "output_type": "stream",
     "text": [
      "C:\\Users\\michl\\anaconda3\\lib\\site-packages\\sklearn\\neural_network\\_multilayer_perceptron.py:1342: DataConversionWarning: A column-vector y was passed when a 1d array was expected. Please change the shape of y to (n_samples, ), for example using ravel().\n",
      "  y = column_or_1d(y, warn=True)\n"
     ]
    },
    {
     "data": {
      "text/plain": [
       "MLPRegressor(activation='relu', alpha=0.2223, batch_size='auto', beta_1=0.9,\n",
       "             beta_2=0.999, early_stopping=False, epsilon=1e-08,\n",
       "             hidden_layer_sizes=(10, 10, 10), learning_rate='constant',\n",
       "             learning_rate_init=0.002, max_fun=15000, max_iter=200,\n",
       "             momentum=0.9, n_iter_no_change=10, nesterovs_momentum=True,\n",
       "             power_t=0.5, random_state=None, shuffle=True, solver='adam',\n",
       "             tol=0.0001, validation_fraction=0.1, verbose=False,\n",
       "             warm_start=False)"
      ]
     },
     "execution_count": 87,
     "metadata": {},
     "output_type": "execute_result"
    }
   ],
   "source": [
    "nn.fit(splits[0.8][0], splits[0.8][2])"
   ]
  },
  {
   "cell_type": "code",
   "execution_count": 89,
   "metadata": {},
   "outputs": [
    {
     "name": "stdout",
     "output_type": "stream",
     "text": [
      "R2 0.5331529313829779\n",
      "RMSE 164.834824700264\n"
     ]
    }
   ],
   "source": [
    "from sklearn.metrics import r2_score, mean_squared_error\n",
    "predictions = nn.predict(splits[0.8][1])\n",
    "r2 = r2_score(splits[0.8][3], predictions)\n",
    "rmse = mean_squared_error(splits[0.8][3], predictions, squared=False)\n",
    "\n",
    "print(\"R2\", r2)\n",
    "print(\"RMSE\", rmse)"
   ]
  },
  {
   "cell_type": "code",
   "execution_count": null,
   "metadata": {},
   "outputs": [],
   "source": []
  }
 ],
 "metadata": {
  "kernelspec": {
   "display_name": "Python 3",
   "language": "python",
   "name": "python3"
  },
  "language_info": {
   "codemirror_mode": {
    "name": "ipython",
    "version": 3
   },
   "file_extension": ".py",
   "mimetype": "text/x-python",
   "name": "python",
   "nbconvert_exporter": "python",
   "pygments_lexer": "ipython3",
   "version": "3.7.6"
  }
 },
 "nbformat": 4,
 "nbformat_minor": 4
}
